{
  "nbformat": 4,
  "nbformat_minor": 0,
  "metadata": {
    "colab": {
      "provenance": []
    },
    "kernelspec": {
      "name": "python3",
      "display_name": "Python 3"
    },
    "language_info": {
      "name": "python"
    }
  },
  "cells": [
    {
      "cell_type": "code",
      "execution_count": null,
      "metadata": {
        "id": "fsBemshUPo_i"
      },
      "outputs": [],
      "source": [
        "import pandas as pd\n",
        "import numpy as np\n",
        "import matplotlib.pyplot as plt\n",
        "import seaborn as sns"
      ]
    },
    {
      "cell_type": "code",
      "source": [
        "data1=pd.read_csv('/content/StudentsPerformance (1).csv')"
      ],
      "metadata": {
        "id": "3p_vKYeVQcX4"
      },
      "execution_count": null,
      "outputs": []
    },
    {
      "cell_type": "markdown",
      "source": [
        "1. Find out how many males and females participated in the test."
      ],
      "metadata": {
        "id": "RvrCpQWf4qKD"
      }
    },
    {
      "cell_type": "code",
      "source": [
        "gender_counts = df['gender'].value_counts()\n",
        "print(\"Number of males:\", gender_counts['male'])\n",
        "print(\"Number of females:\", gender_counts['female'])"
      ],
      "metadata": {
        "colab": {
          "base_uri": "https://localhost:8080/"
        },
        "id": "uUiXhcVI4jPv",
        "outputId": "a840e9e9-56d6-4b8b-e5b3-d6e07892c6a5"
      },
      "execution_count": null,
      "outputs": [
        {
          "output_type": "stream",
          "name": "stdout",
          "text": [
            "Number of males: 482\n",
            "Number of females: 518\n"
          ]
        }
      ]
    },
    {
      "cell_type": "markdown",
      "source": [
        "2. Parental level of education analysis"
      ],
      "metadata": {
        "id": "50Y3zlUp47Yl"
      }
    },
    {
      "cell_type": "code",
      "source": [
        "parental_education_counts = df['parental level of education'].value_counts()\n",
        "print(\"\\nParental Level of Education Distribution:\")\n",
        "print(parental_education_counts)"
      ],
      "metadata": {
        "colab": {
          "base_uri": "https://localhost:8080/"
        },
        "id": "qp9cYveu42oa",
        "outputId": "f446fc3c-978d-4a0a-9367-485270f5a161"
      },
      "execution_count": null,
      "outputs": [
        {
          "output_type": "stream",
          "name": "stdout",
          "text": [
            "\n",
            "Parental Level of Education Distribution:\n",
            "some college          226\n",
            "associate's degree    222\n",
            "high school           196\n",
            "some high school      179\n",
            "bachelor's degree     118\n",
            "master's degree        59\n",
            "Name: parental level of education, dtype: int64\n"
          ]
        }
      ]
    },
    {
      "cell_type": "markdown",
      "source": [
        "3. Average scores by gender and test preparation course"
      ],
      "metadata": {
        "id": "crYUZCGm5QyF"
      }
    },
    {
      "cell_type": "code",
      "source": [
        "average_scores = df.groupby(['gender', 'test preparation course']).mean()\n",
        "print(\"\\nAverage Scores by Gender and Test Preparation Course:\")\n",
        "print(average_scores)"
      ],
      "metadata": {
        "colab": {
          "base_uri": "https://localhost:8080/"
        },
        "id": "NrIK5aNJ5M2o",
        "outputId": "613f1d1a-ac75-47ed-844d-9772ef7cca0a"
      },
      "execution_count": null,
      "outputs": [
        {
          "output_type": "stream",
          "name": "stdout",
          "text": [
            "\n",
            "Average Scores by Gender and Test Preparation Course:\n",
            "                                math score  reading score  writing score\n",
            "gender test preparation course                                          \n",
            "female completed                 67.108696      77.375000      78.793478\n",
            "       none                      61.320359      69.955090      68.982036\n",
            "male   completed                 72.988506      70.793103      70.339080\n",
            "       none                      66.467532      62.581169      59.551948\n"
          ]
        },
        {
          "output_type": "stream",
          "name": "stderr",
          "text": [
            "<ipython-input-30-7873fd38b84a>:1: FutureWarning: The default value of numeric_only in DataFrameGroupBy.mean is deprecated. In a future version, numeric_only will default to False. Either specify numeric_only or select only columns which should be valid for the function.\n",
            "  average_scores = df.groupby(['gender', 'test preparation course']).mean()\n"
          ]
        }
      ]
    },
    {
      "cell_type": "markdown",
      "source": [
        "4. Scoring variation by gender and test preparation course"
      ],
      "metadata": {
        "id": "XLtcB5Rj5b8o"
      }
    },
    {
      "cell_type": "code",
      "source": [
        "score_variation = df.groupby(['gender', 'test preparation course']).std()\n",
        "print(\"\\nScoring Variation by Gender and Test Preparation Course:\")\n",
        "print(score_variation)"
      ],
      "metadata": {
        "colab": {
          "base_uri": "https://localhost:8080/"
        },
        "id": "HGIqKpGj5dSt",
        "outputId": "ad1e2e26-f02a-4183-9ed0-7e0781062ca8"
      },
      "execution_count": null,
      "outputs": [
        {
          "output_type": "stream",
          "name": "stdout",
          "text": [
            "\n",
            "Scoring Variation by Gender and Test Preparation Course:\n",
            "                                math score  reading score  writing score\n",
            "gender test preparation course                                          \n",
            "female completed                 14.428233      12.695493      12.240788\n",
            "       none                      16.510686      14.636981      15.016497\n",
            "male   completed                 14.039164      13.612420      12.887910\n",
            "       none                      14.335746      13.595718      13.468284\n"
          ]
        },
        {
          "output_type": "stream",
          "name": "stderr",
          "text": [
            "<ipython-input-31-9e4e7e6e4c08>:1: FutureWarning: The default value of numeric_only in DataFrameGroupBy.std is deprecated. In a future version, numeric_only will default to False. Either specify numeric_only or select only columns which should be valid for the function.\n",
            "  score_variation = df.groupby(['gender', 'test preparation course']).std()\n"
          ]
        }
      ]
    },
    {
      "cell_type": "markdown",
      "source": [
        " 5. Bonus points for top 25% of students based on math score"
      ],
      "metadata": {
        "id": "Pkl96Oqu5oZB"
      }
    },
    {
      "cell_type": "code",
      "source": [
        "top_25_percentile = np.percentile(df['math score'], 75)\n",
        "df['bonus_points'] = np.where(df['math score'] >= top_25_percentile, 10, 0)"
      ],
      "metadata": {
        "id": "nJcYaQq95jVD"
      },
      "execution_count": null,
      "outputs": []
    },
    {
      "cell_type": "code",
      "source": [
        "sns.boxplot(x='gender', y='math score', data=df)\n",
        "sns.boxplot(x='test preparation course', y='math score', data=df)"
      ],
      "metadata": {
        "colab": {
          "base_uri": "https://localhost:8080/",
          "height": 466
        },
        "id": "XavKig2m5uTQ",
        "outputId": "19b24417-73a9-42e4-af31-680665394d73"
      },
      "execution_count": null,
      "outputs": [
        {
          "output_type": "execute_result",
          "data": {
            "text/plain": [
              "<Axes: xlabel='gender', ylabel='math score'>"
            ]
          },
          "metadata": {},
          "execution_count": 34
        },
        {
          "output_type": "display_data",
          "data": {
            "text/plain": [
              "<Figure size 640x480 with 1 Axes>"
            ],
            "image/png": "[encoded data removed]"
          },
          "metadata": {}
        }
      ]
    }
  ]
}